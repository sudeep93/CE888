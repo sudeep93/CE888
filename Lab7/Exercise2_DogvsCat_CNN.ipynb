{
  "nbformat": 4,
  "nbformat_minor": 0,
  "metadata": {
    "colab": {
      "name": "Exercise2_DogvsCat_CNN.ipynb",
      "provenance": [],
      "collapsed_sections": [],
      "include_colab_link": true
    },
    "kernelspec": {
      "name": "python3",
      "display_name": "Python 3"
    },
    "accelerator": "GPU"
  },
  "cells": [
    {
      "cell_type": "markdown",
      "metadata": {
        "id": "view-in-github",
        "colab_type": "text"
      },
      "source": [
        "<a href=\"https://colab.research.google.com/github/sudeep93/CE888/blob/main/Lab7/Exercise2_DogvsCat_CNN.ipynb\" target=\"_parent\"><img src=\"https://colab.research.google.com/assets/colab-badge.svg\" alt=\"Open In Colab\"/></a>"
      ]
    },
    {
      "cell_type": "markdown",
      "metadata": {
        "id": "qTh9DiKVslsJ"
      },
      "source": [
        "## Dogs vs. Cats \n",
        "\n",
        "In this competition, you'll write an algorithm to classify whether images contain either a dog or a cat.  This is easy for humans, dogs, and cats. Your computer will find it a bit more difficult.\n",
        "\n",
        "![alt text](https://miro.medium.com/max/3000/1*bhFifratH9DjKqMBTeQG5A.gif)\n",
        "\n",
        "Ref: https://medium.com/@thegrigorian/rolling-in-the-deep-cnn-c8d3f7108c8c"
      ]
    },
    {
      "cell_type": "markdown",
      "metadata": {
        "id": "RSBI-_mSSY1g"
      },
      "source": [
        "Get your API Key from Kaggle using following steps:\n",
        "1. Login to [Kaggle](https://www.kaggle.com/) or Register if you don't have account\n",
        "2. Open Dataset (https://www.kaggle.com/c/dogs-vs-cats/rules) and accept terms and condition. \n",
        "3. On the top right corner click on your Icon and go to accounts and press a button \"Create New API Token\". It will download a JSON file containing your username and key. \n",
        "4. Now, paste both below. \n"
      ]
    },
    {
      "cell_type": "code",
      "metadata": {
        "id": "YmXSOc0tZIGA",
        "colab": {
          "base_uri": "https://localhost:8080/"
        },
        "outputId": "0543b599-0edf-47f9-d367-19912cadffef"
      },
      "source": [
        "import os\n",
        "os.environ['KAGGLE_USERNAME'] = \"sudeepsawant\" # username from the json file\n",
        "os.environ['KAGGLE_KEY'] = \"66405098c16c69dc9420d5584c330905\" # key from the json file\n",
        "!kaggle competitions download -c dogs-vs-cats # api copied from kaggle (https://www.kaggle.com/c/dogs-vs-cats/data)"
      ],
      "execution_count": null,
      "outputs": [
        {
          "output_type": "stream",
          "text": [
            "Warning: Looks like you're using an outdated API Version, please consider updating (server 1.5.12 / client 1.5.4)\n",
            "Downloading sampleSubmission.csv to /content\n",
            "  0% 0.00/86.8k [00:00<?, ?B/s]\n",
            "100% 86.8k/86.8k [00:00<00:00, 32.2MB/s]\n",
            "Downloading train.zip to /content\n",
            " 99% 537M/543M [00:04<00:00, 111MB/s] \n",
            "100% 543M/543M [00:04<00:00, 123MB/s]\n",
            "Downloading test1.zip to /content\n",
            " 93% 252M/271M [00:02<00:00, 85.3MB/s]\n",
            "100% 271M/271M [00:03<00:00, 94.2MB/s]\n"
          ],
          "name": "stdout"
        }
      ]
    },
    {
      "cell_type": "code",
      "metadata": {
        "id": "PiwIL8d1n7eS",
        "colab": {
          "base_uri": "https://localhost:8080/"
        },
        "outputId": "9c156738-33b0-4e60-ef61-d4dbea629920"
      },
      "source": [
        "# Unzip training data\n",
        "from zipfile import ZipFile\n",
        "file_name = \"/content/train.zip\"\n",
        "with ZipFile(file_name, 'r') as zip:\n",
        "  zip.extractall()\n",
        "  print('done')"
      ],
      "execution_count": null,
      "outputs": [
        {
          "output_type": "stream",
          "text": [
            "done\n"
          ],
          "name": "stdout"
        }
      ]
    },
    {
      "cell_type": "code",
      "metadata": {
        "id": "sa2Bj5i7pPKV",
        "colab": {
          "base_uri": "https://localhost:8080/"
        },
        "outputId": "a8f818fc-46e7-4515-fe7b-6c5b96a87a37"
      },
      "source": [
        "# Get all the paths\n",
        "data_dir_list = os.listdir('/content/train')\n",
        "#print(data_dir_list)\n",
        "path, dirs, files = next(os.walk(\"/content/train\"))\n",
        "file_count = len(files)\n",
        "print(file_count)"
      ],
      "execution_count": null,
      "outputs": [
        {
          "output_type": "stream",
          "text": [
            "25000\n"
          ],
          "name": "stdout"
        }
      ]
    },
    {
      "cell_type": "code",
      "metadata": {
        "id": "0ERlHkfHqpK8"
      },
      "source": [
        "# Make new base directory\n",
        "original_dataset_dir = '/content/train'\n",
        "base_dir = '/content/cats_and_dogs_small'\n",
        "os.mkdir(base_dir)"
      ],
      "execution_count": null,
      "outputs": []
    },
    {
      "cell_type": "code",
      "metadata": {
        "id": "AANB1UJ6rQhM"
      },
      "source": [
        "train_dir = os.path.join(base_dir, 'train')\n",
        "os.mkdir(train_dir)\n",
        "\n",
        "validation_dir = os.path.join(base_dir, 'validation')\n",
        "os.mkdir(validation_dir)\n",
        "\n",
        "test_dir = os.path.join(base_dir, 'test')\n",
        "os.mkdir(test_dir)\n",
        "\n",
        "train_cats_dir = os.path.join(train_dir, 'cats')\n",
        "os.mkdir(train_cats_dir)\n",
        "\n",
        "train_dogs_dir = os.path.join(train_dir, 'dogs')\n",
        "os.mkdir(train_dogs_dir)\n",
        "\n",
        "validation_cats_dir = os.path.join(validation_dir, 'cats')\n",
        "os.mkdir(validation_cats_dir)\n",
        "\n",
        "validation_dogs_dir = os.path.join(validation_dir, 'dogs')\n",
        "os.mkdir(validation_dogs_dir)\n",
        "\n",
        "test_cats_dir = os.path.join(test_dir, 'cats')\n",
        "os.mkdir(test_cats_dir)\n",
        "\n",
        "test_dogs_dir = os.path.join(test_dir, 'dogs')\n",
        "os.mkdir(test_dogs_dir)"
      ],
      "execution_count": null,
      "outputs": []
    },
    {
      "cell_type": "code",
      "metadata": {
        "id": "ULRgL9s9rV8T"
      },
      "source": [
        "import shutil\n",
        "fnames = ['cat.{}.jpg'.format(i) for i in range(1000)]\n",
        "for fname in fnames:\n",
        "    src = os.path.join(original_dataset_dir, fname)\n",
        "    dst = os.path.join(train_cats_dir, fname)\n",
        "    #print(src,dst)\n",
        "    shutil.copyfile(src, dst)\n",
        "    \n",
        "fnames = ['cat.{}.jpg'.format(i) for i in range(1000, 1500)]\n",
        "for fname in fnames:\n",
        "    src = os.path.join(original_dataset_dir, fname)\n",
        "    dst = os.path.join(validation_cats_dir, fname)\n",
        "    shutil.copyfile(src, dst)\n",
        "\n",
        "fnames = ['cat.{}.jpg'.format(i) for i in range(1500, 2000)]\n",
        "for fname in fnames:\n",
        "    src = os.path.join(original_dataset_dir, fname)\n",
        "    dst = os.path.join(test_cats_dir, fname)\n",
        "    shutil.copyfile(src, dst)\n",
        "    \n",
        "fnames = ['dog.{}.jpg'.format(i) for i in range(1000)]\n",
        "for fname in fnames:\n",
        "    src = os.path.join(original_dataset_dir, fname)\n",
        "    dst = os.path.join(train_dogs_dir, fname)\n",
        "    shutil.copyfile(src, dst)\n",
        "\n",
        "fnames = ['dog.{}.jpg'.format(i) for i in range(1000, 1500)]\n",
        "for fname in fnames:\n",
        "    src = os.path.join(original_dataset_dir, fname)\n",
        "    dst = os.path.join(validation_dogs_dir, fname)\n",
        "    shutil.copyfile(src, dst)\n",
        "\n",
        "fnames = ['dog.{}.jpg'.format(i) for i in range(1500, 2000)]\n",
        "for fname in fnames:\n",
        "    src = os.path.join(original_dataset_dir, fname)\n",
        "    dst = os.path.join(test_dogs_dir, fname)\n",
        "    shutil.copyfile(src, dst)"
      ],
      "execution_count": null,
      "outputs": []
    },
    {
      "cell_type": "code",
      "metadata": {
        "id": "ul3XAbIyr7vC",
        "colab": {
          "base_uri": "https://localhost:8080/"
        },
        "outputId": "fec60967-ec34-4151-b414-3d13a2236494"
      },
      "source": [
        "print('total training cat images:', len(os.listdir(train_cats_dir)))\n",
        "print('total training dog images:', len(os.listdir(train_dogs_dir)))\n",
        "print('total validation cat images:', len(os.listdir(validation_cats_dir)))\n",
        "\n",
        "print('total validation dog images:', len(os.listdir(validation_dogs_dir)))\n",
        "print('total test cat images:', len(os.listdir(test_cats_dir)))\n",
        "print('total test dog images:', len(os.listdir(test_dogs_dir)))"
      ],
      "execution_count": null,
      "outputs": [
        {
          "output_type": "stream",
          "text": [
            "total training cat images: 1000\n",
            "total training dog images: 1000\n",
            "total validation cat images: 500\n",
            "total validation dog images: 500\n",
            "total test cat images: 500\n",
            "total test dog images: 500\n"
          ],
          "name": "stdout"
        }
      ]
    },
    {
      "cell_type": "code",
      "metadata": {
        "id": "o9yTA21_r-ma",
        "colab": {
          "base_uri": "https://localhost:8080/"
        },
        "outputId": "0d8e6ce6-569c-4426-a6de-6377934b9614"
      },
      "source": [
        "from keras import layers\n",
        "from keras import models\n",
        "\n",
        "model = models.Sequential()\n",
        "model.add(layers.Conv2D(32, (3, 3), activation='relu', input_shape=(150, 150, 3)))\n",
        "model.add(layers.MaxPooling2D((2, 2)))\n",
        "model.add(layers.Conv2D(64, (3, 3), activation='relu'))\n",
        "model.add(layers.MaxPooling2D((2, 2)))\n",
        "model.add(layers.Conv2D(128, (3, 3), activation='relu'))\n",
        "model.add(layers.MaxPooling2D((2, 2)))\n",
        "model.add(layers.Conv2D(128, (3, 3), activation='relu'))\n",
        "model.add(layers.MaxPooling2D((2, 2)))\n",
        "model.add(layers.Flatten())\n",
        "model.add(layers.Dense(512, activation='relu'))\n",
        "model.add(layers.Dense(1, activation='softmax'))\n",
        "model.summary()"
      ],
      "execution_count": null,
      "outputs": [
        {
          "output_type": "stream",
          "text": [
            "Model: \"sequential_1\"\n",
            "_________________________________________________________________\n",
            "Layer (type)                 Output Shape              Param #   \n",
            "=================================================================\n",
            "conv2d (Conv2D)              (None, 148, 148, 32)      896       \n",
            "_________________________________________________________________\n",
            "max_pooling2d (MaxPooling2D) (None, 74, 74, 32)        0         \n",
            "_________________________________________________________________\n",
            "conv2d_1 (Conv2D)            (None, 72, 72, 64)        18496     \n",
            "_________________________________________________________________\n",
            "max_pooling2d_1 (MaxPooling2 (None, 36, 36, 64)        0         \n",
            "_________________________________________________________________\n",
            "conv2d_2 (Conv2D)            (None, 34, 34, 128)       73856     \n",
            "_________________________________________________________________\n",
            "max_pooling2d_2 (MaxPooling2 (None, 17, 17, 128)       0         \n",
            "_________________________________________________________________\n",
            "conv2d_3 (Conv2D)            (None, 15, 15, 128)       147584    \n",
            "_________________________________________________________________\n",
            "max_pooling2d_3 (MaxPooling2 (None, 7, 7, 128)         0         \n",
            "_________________________________________________________________\n",
            "flatten (Flatten)            (None, 6272)              0         \n",
            "_________________________________________________________________\n",
            "dense (Dense)                (None, 512)               3211776   \n",
            "_________________________________________________________________\n",
            "dense_1 (Dense)              (None, 1)                 513       \n",
            "=================================================================\n",
            "Total params: 3,453,121\n",
            "Trainable params: 3,453,121\n",
            "Non-trainable params: 0\n",
            "_________________________________________________________________\n"
          ],
          "name": "stdout"
        }
      ]
    },
    {
      "cell_type": "code",
      "metadata": {
        "id": "2mG8wekxsBVS"
      },
      "source": [
        "from keras import optimizers\n",
        "model.compile(loss='binary_crossentropy', \n",
        "              optimizer=optimizers.RMSprop(lr=1e-4),\n",
        "              metrics=['accuracy'])"
      ],
      "execution_count": null,
      "outputs": []
    },
    {
      "cell_type": "markdown",
      "metadata": {
        "id": "7zS4Klm8qWp6"
      },
      "source": [
        "## Using ImageDataGenerator to read images from directories\n",
        "As you know by now, data should be formatted into appropriately preprocessed floatingpoint tensors before being fed into the network. Currently, the data sits on a drive as JPEG files, so the steps for getting it into the network are roughly as follows:\n",
        "\n",
        "* Read the picture files.\n",
        "* Decode the JPEG content to RGB grids of pixels.\n",
        "* Convert these into floating-point tensors.\n",
        "* Rescale the pixel values (between 0 and 255) to the [0, 1] interval (as you know, neural networks prefer to deal with small input values).\n",
        "\n",
        "It may seem a bit daunting, but fortunately Keras has utilities to take care of these steps automatically. Keras has a module with image-processing helper tools, located at keras.preprocessing.image. In particular, it contains the class ImageDataGenerator,which lets you quickly set up Python generators that can automatically turn image files on disk into batches of preprocessed tensors."
      ]
    },
    {
      "cell_type": "code",
      "metadata": {
        "id": "XJ7XU7t9sEh6",
        "colab": {
          "base_uri": "https://localhost:8080/"
        },
        "outputId": "e82c8cbf-cdf0-4d07-cbef-43911f854d58"
      },
      "source": [
        "from keras.preprocessing.image import ImageDataGenerator\n",
        "\n",
        "train_datagen = ImageDataGenerator(rescale=1./255)\n",
        "test_datagen = ImageDataGenerator(rescale=1./255)\n",
        "\n",
        "train_generator = train_datagen.flow_from_directory(train_dir,\n",
        "                                                    target_size=(150, 150), \n",
        "                                                    batch_size=20,\n",
        "                                                    class_mode='binary')\n",
        "\n",
        "validation_generator = test_datagen.flow_from_directory(validation_dir,\n",
        "                                                        target_size=(150, 150),\n",
        "                                                        batch_size=20,\n",
        "                                                        class_mode='binary')"
      ],
      "execution_count": null,
      "outputs": [
        {
          "output_type": "stream",
          "text": [
            "Found 2000 images belonging to 2 classes.\n",
            "Found 1000 images belonging to 2 classes.\n"
          ],
          "name": "stdout"
        }
      ]
    },
    {
      "cell_type": "markdown",
      "metadata": {
        "id": "SEgLywySqm4u"
      },
      "source": [
        "Let’s fit the model to the data using the generator. You do so using the fit_generator method, the equivalent of fit for data generators like this one. It expects as its first argument a Python generator that will yield batches of inputs and targets indefinitely,like this one does. Because the data is being generated endlessly, the Keras model needs to know how many samples to draw from the generator before declaring anepoch over. This is the role of the `steps_per_epoch` argument: after having drawn `steps_per_epoch` batches from the generator—that is, after having run for `steps_per_epoch` gradient descent steps—the fitting process will go to the next epoch. In this case, batches are 20 samples, so it will take 100 batches until you see your target of 2,000 samples.\n",
        "\n",
        "When using fit_generator, you can pass a validation_data argument, much as with the fit method. It’s important to note that this argument is allowed to be a data generator, but it could also be a tuple of Numpy arrays. If you pass a generator as validation_data, then this generator is expected to yield batches of validation data endlessly; thus you should also specify the validation_steps argument, which tells the process how many batches to draw from the validation generator for evaluation."
      ]
    },
    {
      "cell_type": "code",
      "metadata": {
        "id": "yMyfPphJsJG6",
        "colab": {
          "base_uri": "https://localhost:8080/"
        },
        "outputId": "c19a5c57-a414-4392-bb8d-69ef99a9280c"
      },
      "source": [
        "history = model.fit_generator(train_generator,\n",
        "                              steps_per_epoch=100,\n",
        "                              epochs=30,\n",
        "                              validation_data=validation_generator,\n",
        "                              validation_steps=10)"
      ],
      "execution_count": null,
      "outputs": [
        {
          "output_type": "stream",
          "text": [
            "/usr/local/lib/python3.7/dist-packages/tensorflow/python/keras/engine/training.py:1844: UserWarning: `Model.fit_generator` is deprecated and will be removed in a future version. Please use `Model.fit`, which supports generators.\n",
            "  warnings.warn('`Model.fit_generator` is deprecated and '\n"
          ],
          "name": "stderr"
        },
        {
          "output_type": "stream",
          "text": [
            "Epoch 1/30\n",
            "100/100 [==============================] - 40s 68ms/step - loss: 0.7002 - accuracy: 0.4957 - val_loss: 0.6673 - val_accuracy: 0.4750\n",
            "Epoch 2/30\n",
            "100/100 [==============================] - 7s 67ms/step - loss: 0.6676 - accuracy: 0.4763 - val_loss: 0.6459 - val_accuracy: 0.4850\n",
            "Epoch 3/30\n",
            "100/100 [==============================] - 7s 66ms/step - loss: 0.6430 - accuracy: 0.4933 - val_loss: 0.6682 - val_accuracy: 0.5300\n",
            "Epoch 4/30\n",
            "100/100 [==============================] - 7s 65ms/step - loss: 0.6166 - accuracy: 0.5001 - val_loss: 0.6334 - val_accuracy: 0.4950\n",
            "Epoch 5/30\n",
            "100/100 [==============================] - 7s 65ms/step - loss: 0.5658 - accuracy: 0.4774 - val_loss: 0.6208 - val_accuracy: 0.4900\n",
            "Epoch 6/30\n",
            "100/100 [==============================] - 7s 66ms/step - loss: 0.4976 - accuracy: 0.4882 - val_loss: 0.5441 - val_accuracy: 0.4750\n",
            "Epoch 7/30\n",
            "100/100 [==============================] - 7s 67ms/step - loss: 0.4734 - accuracy: 0.4938 - val_loss: 0.6253 - val_accuracy: 0.5050\n",
            "Epoch 8/30\n",
            "100/100 [==============================] - 7s 67ms/step - loss: 0.4508 - accuracy: 0.5039 - val_loss: 0.6170 - val_accuracy: 0.5150\n",
            "Epoch 9/30\n",
            "100/100 [==============================] - 7s 66ms/step - loss: 0.4234 - accuracy: 0.4974 - val_loss: 0.6277 - val_accuracy: 0.4450\n",
            "Epoch 10/30\n",
            "100/100 [==============================] - 7s 65ms/step - loss: 0.3928 - accuracy: 0.4915 - val_loss: 0.5329 - val_accuracy: 0.4750\n",
            "Epoch 11/30\n",
            "100/100 [==============================] - 7s 66ms/step - loss: 0.4106 - accuracy: 0.5160 - val_loss: 0.6324 - val_accuracy: 0.4900\n",
            "Epoch 12/30\n",
            "100/100 [==============================] - 7s 66ms/step - loss: 0.3526 - accuracy: 0.5175 - val_loss: 0.6189 - val_accuracy: 0.5000\n",
            "Epoch 13/30\n",
            "100/100 [==============================] - 7s 68ms/step - loss: 0.3389 - accuracy: 0.4928 - val_loss: 0.4965 - val_accuracy: 0.4500\n",
            "Epoch 14/30\n",
            "100/100 [==============================] - 7s 68ms/step - loss: 0.3092 - accuracy: 0.4897 - val_loss: 0.5462 - val_accuracy: 0.4800\n",
            "Epoch 15/30\n",
            "100/100 [==============================] - 7s 66ms/step - loss: 0.3005 - accuracy: 0.5031 - val_loss: 0.6650 - val_accuracy: 0.5100\n",
            "Epoch 16/30\n",
            "100/100 [==============================] - 7s 65ms/step - loss: 0.2765 - accuracy: 0.5018 - val_loss: 0.5438 - val_accuracy: 0.5300\n",
            "Epoch 17/30\n",
            "100/100 [==============================] - 7s 66ms/step - loss: 0.2652 - accuracy: 0.4911 - val_loss: 0.6036 - val_accuracy: 0.4750\n",
            "Epoch 18/30\n",
            "100/100 [==============================] - 7s 66ms/step - loss: 0.2260 - accuracy: 0.4879 - val_loss: 0.5654 - val_accuracy: 0.5650\n",
            "Epoch 19/30\n",
            "100/100 [==============================] - 7s 66ms/step - loss: 0.2057 - accuracy: 0.4950 - val_loss: 0.5841 - val_accuracy: 0.5000\n",
            "Epoch 20/30\n",
            "100/100 [==============================] - 7s 65ms/step - loss: 0.1948 - accuracy: 0.5078 - val_loss: 0.6195 - val_accuracy: 0.4900\n",
            "Epoch 21/30\n",
            "100/100 [==============================] - 7s 66ms/step - loss: 0.1584 - accuracy: 0.5176 - val_loss: 0.5373 - val_accuracy: 0.4700\n",
            "Epoch 22/30\n",
            "100/100 [==============================] - 7s 66ms/step - loss: 0.1473 - accuracy: 0.5157 - val_loss: 0.7327 - val_accuracy: 0.5050\n",
            "Epoch 23/30\n",
            "100/100 [==============================] - 7s 66ms/step - loss: 0.1258 - accuracy: 0.4950 - val_loss: 0.9966 - val_accuracy: 0.4850\n",
            "Epoch 24/30\n",
            "100/100 [==============================] - 7s 66ms/step - loss: 0.1320 - accuracy: 0.5224 - val_loss: 0.6616 - val_accuracy: 0.4550\n",
            "Epoch 25/30\n",
            "100/100 [==============================] - 7s 66ms/step - loss: 0.1063 - accuracy: 0.4968 - val_loss: 0.7932 - val_accuracy: 0.4900\n",
            "Epoch 26/30\n",
            "100/100 [==============================] - 7s 67ms/step - loss: 0.0836 - accuracy: 0.4846 - val_loss: 0.8063 - val_accuracy: 0.4900\n",
            "Epoch 27/30\n",
            "100/100 [==============================] - 7s 66ms/step - loss: 0.0767 - accuracy: 0.5176 - val_loss: 0.9897 - val_accuracy: 0.4950\n",
            "Epoch 28/30\n",
            "100/100 [==============================] - 7s 67ms/step - loss: 0.0743 - accuracy: 0.4921 - val_loss: 0.8689 - val_accuracy: 0.5500\n",
            "Epoch 29/30\n",
            "100/100 [==============================] - 7s 67ms/step - loss: 0.0606 - accuracy: 0.4947 - val_loss: 0.8574 - val_accuracy: 0.5450\n",
            "Epoch 30/30\n",
            "100/100 [==============================] - 7s 66ms/step - loss: 0.0475 - accuracy: 0.4875 - val_loss: 1.0968 - val_accuracy: 0.4750\n"
          ],
          "name": "stdout"
        }
      ]
    },
    {
      "cell_type": "code",
      "metadata": {
        "id": "MZaZ2HWZsNUi",
        "colab": {
          "base_uri": "https://localhost:8080/",
          "height": 545
        },
        "outputId": "25775e39-ffbc-4f53-be74-8f2425e7bade"
      },
      "source": [
        "model.save('cats_and_dogs_small_1.h5')\n",
        "\n",
        "import matplotlib.pyplot as plt\n",
        "\n",
        "acc = history.history['accuracy']\n",
        "val_acc = history.history['val_accuracy']\n",
        "loss = history.history['loss']\n",
        "val_loss = history.history['val_loss']\n",
        "\n",
        "epochs = range(1, len(acc) + 1)\n",
        "\n",
        "plt.plot(epochs, acc, 'bo', label='Training acc')\n",
        "plt.plot(epochs, val_acc, 'b', label='Validation acc')\n",
        "plt.title('Training and validation accuracy')\n",
        "plt.legend()\n",
        "\n",
        "plt.figure()\n",
        "\n",
        "plt.plot(epochs, loss, 'bo', label='Training loss')\n",
        "plt.plot(epochs, val_loss, 'b', label='Validation loss')\n",
        "plt.title('Training and validation loss')\n",
        "plt.legend()\n",
        "\n",
        "plt.show()"
      ],
      "execution_count": null,
      "outputs": [
        {
          "output_type": "display_data",
          "data": {
            "image/png": "[encoded data removed]",
            "text/plain": [
              "<Figure size 432x288 with 1 Axes>"
            ]
          },
          "metadata": {
            "tags": [],
            "needs_background": "light"
          }
        },
        {
          "output_type": "display_data",
          "data": {
            "image/png": "[encoded data removed]",
            "text/plain": [
              "<Figure size 432x288 with 1 Axes>"
            ]
          },
          "metadata": {
            "tags": [],
            "needs_background": "light"
          }
        }
      ]
    },
    {
      "cell_type": "markdown",
      "metadata": {
        "id": "XKZmXmBcq_8-"
      },
      "source": [
        "## Convolutional Networks with Dropout\n",
        "\n",
        "![alt text](https://camo.githubusercontent.com/ee6fa1073247cd2c3d241300caf110d7a7541bc5/68747470733a2f2f63646e2d696d616765732d312e6d656469756d2e636f6d2f6d61782f3830302f312a4972644a355067684439596f4f7956415137334d4a772e676966)\n",
        "\n",
        "Ref: https://github.com/mneha4/Training-Neural-Nets---Guidelines"
      ]
    },
    {
      "cell_type": "code",
      "metadata": {
        "id": "wu3cqeYQrDeN"
      },
      "source": [
        "model = models.Sequential()\n",
        "model.add(layers.Conv2D(32, (3, 3), activation='relu',\n",
        "input_shape=(150, 150, 3)))\n",
        "model.add(layers.MaxPooling2D((2, 2)))\n",
        "model.add(layers.Conv2D(64, (3, 3), activation='relu'))\n",
        "model.add(layers.MaxPooling2D((2, 2)))\n",
        "model.add(layers.Conv2D(128, (3, 3), activation='relu'))\n",
        "model.add(layers.MaxPooling2D((2, 2)))\n",
        "model.add(layers.Conv2D(128, (3, 3), activation='relu'))\n",
        "model.add(layers.MaxPooling2D((2, 2)))\n",
        "model.add(layers.Flatten())\n",
        "model.add(layers.Dropout(0.5))\n",
        "model.add(layers.Dense(512, activation='relu'))\n",
        "model.add(layers.Dense(1, activation='sigmoid'))\n",
        "\n",
        "model.compile(loss='binary_crossentropy',\n",
        "              optimizer=optimizers.RMSprop(lr=1e-4),\n",
        "              metrics=['acc'])"
      ],
      "execution_count": null,
      "outputs": []
    },
    {
      "cell_type": "code",
      "metadata": {
        "id": "QSeLpvY0rH7F",
        "colab": {
          "base_uri": "https://localhost:8080/"
        },
        "outputId": "6859738a-9992-4c27-9d11-5520b830432c"
      },
      "source": [
        "train_datagen = ImageDataGenerator(rescale=1./255,\n",
        "                                   rotation_range=40,\n",
        "                                   width_shift_range=0.2,\n",
        "                                   height_shift_range=0.2,\n",
        "                                   shear_range=0.2,\n",
        "                                   zoom_range=0.2,\n",
        "                                   horizontal_flip=True)\n",
        "\n",
        "test_datagen = ImageDataGenerator(rescale=1./255)\n",
        "\n",
        "train_generator = train_datagen.flow_from_directory(train_dir,\n",
        "                                                    target_size=(150, 150),\n",
        "                                                    batch_size=20,\n",
        "                                                    class_mode='binary')\n",
        "\n",
        "validation_generator = test_datagen.flow_from_directory(validation_dir,\n",
        "                                                        target_size=(150, 150),\n",
        "                                                        batch_size=20,\n",
        "                                                        class_mode='binary')\n",
        "\n",
        "\n",
        "\n",
        "history = model.fit_generator(train_generator,\n",
        "                              steps_per_epoch=100,\n",
        "                              epochs=20,\n",
        "                              validation_data=validation_generator,\n",
        "                              validation_steps=50)"
      ],
      "execution_count": null,
      "outputs": [
        {
          "output_type": "stream",
          "text": [
            "Found 2000 images belonging to 2 classes.\n",
            "Found 1000 images belonging to 2 classes.\n"
          ],
          "name": "stdout"
        },
        {
          "output_type": "stream",
          "text": [
            "/usr/local/lib/python3.7/dist-packages/tensorflow/python/keras/engine/training.py:1844: UserWarning: `Model.fit_generator` is deprecated and will be removed in a future version. Please use `Model.fit`, which supports generators.\n",
            "  warnings.warn('`Model.fit_generator` is deprecated and '\n"
          ],
          "name": "stderr"
        },
        {
          "output_type": "stream",
          "text": [
            "Epoch 1/20\n",
            "100/100 [==============================] - 18s 173ms/step - loss: 0.6958 - acc: 0.5018 - val_loss: 0.6863 - val_acc: 0.6010\n",
            "Epoch 2/20\n",
            "100/100 [==============================] - 17s 170ms/step - loss: 0.6903 - acc: 0.5373 - val_loss: 0.6866 - val_acc: 0.5010\n",
            "Epoch 3/20\n",
            "100/100 [==============================] - 17s 171ms/step - loss: 0.6731 - acc: 0.5643 - val_loss: 0.6544 - val_acc: 0.6260\n",
            "Epoch 4/20\n",
            "100/100 [==============================] - 17s 169ms/step - loss: 0.6774 - acc: 0.5488 - val_loss: 0.6450 - val_acc: 0.6320\n",
            "Epoch 5/20\n",
            "100/100 [==============================] - 17s 170ms/step - loss: 0.6656 - acc: 0.6054 - val_loss: 0.7023 - val_acc: 0.5280\n",
            "Epoch 6/20\n",
            "100/100 [==============================] - 17s 170ms/step - loss: 0.6598 - acc: 0.5764 - val_loss: 0.6194 - val_acc: 0.6510\n",
            "Epoch 7/20\n",
            "100/100 [==============================] - 17s 172ms/step - loss: 0.6232 - acc: 0.6515 - val_loss: 0.5978 - val_acc: 0.6730\n",
            "Epoch 8/20\n",
            "100/100 [==============================] - 17s 172ms/step - loss: 0.6204 - acc: 0.6559 - val_loss: 0.6054 - val_acc: 0.6570\n",
            "Epoch 9/20\n",
            "100/100 [==============================] - 17s 173ms/step - loss: 0.6054 - acc: 0.6735 - val_loss: 0.5606 - val_acc: 0.7040\n",
            "Epoch 10/20\n",
            "100/100 [==============================] - 17s 175ms/step - loss: 0.6003 - acc: 0.6704 - val_loss: 0.5652 - val_acc: 0.6970\n",
            "Epoch 11/20\n",
            "100/100 [==============================] - 17s 173ms/step - loss: 0.6026 - acc: 0.6780 - val_loss: 0.5795 - val_acc: 0.6750\n",
            "Epoch 12/20\n",
            "100/100 [==============================] - 17s 174ms/step - loss: 0.5855 - acc: 0.6860 - val_loss: 0.5534 - val_acc: 0.6970\n",
            "Epoch 13/20\n",
            "100/100 [==============================] - 17s 172ms/step - loss: 0.5754 - acc: 0.6978 - val_loss: 0.5589 - val_acc: 0.7060\n",
            "Epoch 14/20\n",
            "100/100 [==============================] - 17s 174ms/step - loss: 0.5750 - acc: 0.6973 - val_loss: 0.5246 - val_acc: 0.7360\n",
            "Epoch 15/20\n",
            "100/100 [==============================] - 17s 173ms/step - loss: 0.5649 - acc: 0.7159 - val_loss: 0.5299 - val_acc: 0.7280\n",
            "Epoch 16/20\n",
            "100/100 [==============================] - 17s 174ms/step - loss: 0.5658 - acc: 0.7197 - val_loss: 0.5249 - val_acc: 0.7440\n",
            "Epoch 17/20\n",
            "100/100 [==============================] - 17s 172ms/step - loss: 0.5585 - acc: 0.7166 - val_loss: 0.5498 - val_acc: 0.7150\n",
            "Epoch 18/20\n",
            "100/100 [==============================] - 17s 173ms/step - loss: 0.5518 - acc: 0.7079 - val_loss: 0.5015 - val_acc: 0.7380\n",
            "Epoch 19/20\n",
            "100/100 [==============================] - 17s 173ms/step - loss: 0.5434 - acc: 0.7082 - val_loss: 0.5218 - val_acc: 0.7290\n",
            "Epoch 20/20\n",
            "100/100 [==============================] - 17s 173ms/step - loss: 0.5457 - acc: 0.7161 - val_loss: 0.5168 - val_acc: 0.7260\n"
          ],
          "name": "stdout"
        }
      ]
    },
    {
      "cell_type": "markdown",
      "metadata": {
        "id": "BRdU5yrkUF_b"
      },
      "source": [
        "# Task 2:\n",
        "\n",
        "We have used Dropout to enhance the performance of the CNN model. Can you please use whatever you like to further enhance the performance from `val_acc: 0.7506`? "
      ]
    },
    {
      "cell_type": "code",
      "metadata": {
        "id": "_ZqLfrURTG8L"
      },
      "source": [
        "model = models.Sequential()\n",
        "model.add(layers.Conv2D(32, (3, 3), activation='relu',\n",
        "input_shape=(150, 150, 3)))\n",
        "model.add(layers.MaxPooling2D((2, 2)))\n",
        "model.add(layers.Conv2D(128, (3, 3), activation='relu'))\n",
        "model.add(layers.MaxPooling2D((2, 2)))\n",
        "model.add(layers.Conv2D(128, (3, 3), activation='relu'))\n",
        "model.add(layers.MaxPooling2D((2, 2)))\n",
        "model.add(layers.Flatten())\n",
        "model.add(layers.Dropout(0.5))\n",
        "#model.add(layers.Dropout(0.5))\n",
        "model.add(layers.Dense(512, activation='relu'))\n",
        "model.add(layers.Dense(1, activation='sigmoid'))\n",
        "\n",
        "\n",
        "model.compile(loss='binary_crossentropy',\n",
        "              optimizer='RMSprop',\n",
        "              metrics=['accuracy'])"
      ],
      "execution_count": null,
      "outputs": []
    },
    {
      "cell_type": "code",
      "metadata": {
        "colab": {
          "base_uri": "https://localhost:8080/"
        },
        "id": "DQfksOFxTdPH",
        "outputId": "6fed9c10-8ac7-4d31-924e-7053672064c1"
      },
      "source": [
        "\n",
        "history = model.fit_generator(train_generator,\n",
        "                              steps_per_epoch=100,\n",
        "                              epochs=25,\n",
        "                              validation_data=validation_generator,\n",
        "                              validation_steps=50)"
      ],
      "execution_count": null,
      "outputs": [
        {
          "output_type": "stream",
          "text": [
            "/usr/local/lib/python3.7/dist-packages/tensorflow/python/keras/engine/training.py:1844: UserWarning: `Model.fit_generator` is deprecated and will be removed in a future version. Please use `Model.fit`, which supports generators.\n",
            "  warnings.warn('`Model.fit_generator` is deprecated and '\n"
          ],
          "name": "stderr"
        },
        {
          "output_type": "stream",
          "text": [
            "Epoch 1/25\n",
            "100/100 [==============================] - 19s 176ms/step - loss: 0.9676 - accuracy: 0.5046 - val_loss: 0.6898 - val_accuracy: 0.5030\n",
            "Epoch 2/25\n",
            "100/100 [==============================] - 18s 177ms/step - loss: 0.6966 - accuracy: 0.5596 - val_loss: 0.6430 - val_accuracy: 0.6270\n",
            "Epoch 3/25\n",
            "100/100 [==============================] - 18s 176ms/step - loss: 0.6860 - accuracy: 0.6102 - val_loss: 0.6224 - val_accuracy: 0.6760\n",
            "Epoch 4/25\n",
            "100/100 [==============================] - 18s 178ms/step - loss: 0.6509 - accuracy: 0.6223 - val_loss: 0.7105 - val_accuracy: 0.5970\n",
            "Epoch 5/25\n",
            "100/100 [==============================] - 18s 176ms/step - loss: 0.6500 - accuracy: 0.6300 - val_loss: 0.5858 - val_accuracy: 0.7010\n",
            "Epoch 6/25\n",
            "100/100 [==============================] - 18s 176ms/step - loss: 0.6159 - accuracy: 0.6724 - val_loss: 0.5848 - val_accuracy: 0.7070\n",
            "Epoch 7/25\n",
            "100/100 [==============================] - 18s 177ms/step - loss: 0.6049 - accuracy: 0.6809 - val_loss: 0.5562 - val_accuracy: 0.7580\n",
            "Epoch 8/25\n",
            "100/100 [==============================] - 18s 176ms/step - loss: 0.6009 - accuracy: 0.6904 - val_loss: 0.6175 - val_accuracy: 0.6550\n",
            "Epoch 9/25\n",
            "100/100 [==============================] - 18s 178ms/step - loss: 0.5960 - accuracy: 0.6881 - val_loss: 0.6762 - val_accuracy: 0.6450\n",
            "Epoch 10/25\n",
            "100/100 [==============================] - 18s 175ms/step - loss: 0.6250 - accuracy: 0.6748 - val_loss: 0.5315 - val_accuracy: 0.7460\n",
            "Epoch 11/25\n",
            "100/100 [==============================] - 18s 176ms/step - loss: 0.5794 - accuracy: 0.6818 - val_loss: 0.5103 - val_accuracy: 0.7490\n",
            "Epoch 12/25\n",
            "100/100 [==============================] - 18s 175ms/step - loss: 0.6210 - accuracy: 0.6614 - val_loss: 0.5895 - val_accuracy: 0.7110\n",
            "Epoch 13/25\n",
            "100/100 [==============================] - 18s 177ms/step - loss: 0.5834 - accuracy: 0.6840 - val_loss: 0.5449 - val_accuracy: 0.7260\n",
            "Epoch 14/25\n",
            "100/100 [==============================] - 18s 176ms/step - loss: 0.5748 - accuracy: 0.7127 - val_loss: 0.5497 - val_accuracy: 0.7160\n",
            "Epoch 15/25\n",
            "100/100 [==============================] - 18s 176ms/step - loss: 0.5917 - accuracy: 0.7092 - val_loss: 0.5541 - val_accuracy: 0.7270\n",
            "Epoch 16/25\n",
            "100/100 [==============================] - 18s 176ms/step - loss: 0.5572 - accuracy: 0.7130 - val_loss: 0.5290 - val_accuracy: 0.7380\n",
            "Epoch 17/25\n",
            "100/100 [==============================] - 18s 175ms/step - loss: 0.5562 - accuracy: 0.7322 - val_loss: 0.5186 - val_accuracy: 0.7590\n",
            "Epoch 18/25\n",
            "100/100 [==============================] - 18s 176ms/step - loss: 0.5767 - accuracy: 0.7124 - val_loss: 0.5493 - val_accuracy: 0.7210\n",
            "Epoch 19/25\n",
            "100/100 [==============================] - 18s 176ms/step - loss: 0.5525 - accuracy: 0.7188 - val_loss: 0.5098 - val_accuracy: 0.7530\n",
            "Epoch 20/25\n",
            "100/100 [==============================] - 18s 175ms/step - loss: 0.5738 - accuracy: 0.7086 - val_loss: 0.6027 - val_accuracy: 0.6760\n",
            "Epoch 21/25\n",
            "100/100 [==============================] - 18s 176ms/step - loss: 0.5558 - accuracy: 0.7021 - val_loss: 0.4861 - val_accuracy: 0.7590\n",
            "Epoch 22/25\n",
            "100/100 [==============================] - 18s 176ms/step - loss: 0.5879 - accuracy: 0.7042 - val_loss: 0.4970 - val_accuracy: 0.7520\n",
            "Epoch 23/25\n",
            "100/100 [==============================] - 18s 176ms/step - loss: 0.5478 - accuracy: 0.7327 - val_loss: 0.4742 - val_accuracy: 0.7630\n",
            "Epoch 24/25\n",
            "100/100 [==============================] - 18s 175ms/step - loss: 0.5349 - accuracy: 0.7544 - val_loss: 0.5188 - val_accuracy: 0.7620\n",
            "Epoch 25/25\n",
            "100/100 [==============================] - 18s 176ms/step - loss: 0.5348 - accuracy: 0.7352 - val_loss: 0.4805 - val_accuracy: 0.7680\n"
          ],
          "name": "stdout"
        }
      ]
    },
    {
      "cell_type": "code",
      "metadata": {
        "id": "YeLCRp9HajtI"
      },
      "source": [
        ""
      ],
      "execution_count": null,
      "outputs": []
    }
  ]
}