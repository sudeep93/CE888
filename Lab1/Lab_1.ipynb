{
  "nbformat": 4,
  "nbformat_minor": 0,
  "metadata": {
    "colab": {
      "name": "Lab_1.ipynb",
      "provenance": [],
      "include_colab_link": true
    },
    "kernelspec": {
      "name": "python3",
      "display_name": "Python 3"
    }
  },
  "cells": [
    {
      "cell_type": "markdown",
      "metadata": {
        "id": "view-in-github",
        "colab_type": "text"
      },
      "source": [
        "<a href=\"https://colab.research.google.com/github/sudeep93/CE888/blob/main/Lab1/Lab_1.ipynb\" target=\"_parent\"><img src=\"https://colab.research.google.com/assets/colab-badge.svg\" alt=\"Open In Colab\"/></a>"
      ]
    },
    {
      "cell_type": "markdown",
      "metadata": {
        "id": "6X-TO_KR1mjo"
      },
      "source": [
        "## Questions to be done during the lab:\n",
        "\n",
        "**Questions 1.** \n",
        "Write a function name 'avg', which take an array of number and calculate the average\n",
        "\n",
        "\n"
      ]
    },
    {
      "cell_type": "code",
      "metadata": {
        "id": "vbu3Vga33lw3"
      },
      "source": [
        "def avg(marks):\n",
        "  return sum(marks)/len(marks)\n",
        "\n",
        "mark2 = [55,88,78,90,79]\n"
      ],
      "execution_count": 150,
      "outputs": []
    },
    {
      "cell_type": "code",
      "metadata": {
        "id": "MtgR1Y695RpD"
      },
      "source": [
        "# Only run this cell to check your answer. If it is true then no error will be raised\n",
        "import numpy as np\n",
        "\n",
        "assert(avg(mark2) == np.mean(mark2))"
      ],
      "execution_count": 151,
      "outputs": []
    },
    {
      "cell_type": "markdown",
      "metadata": {
        "id": "W1hVtS896cfi"
      },
      "source": [
        "**Questions 2**.\n",
        "Write a function name 'areaCricle', which take radius as a argument and calculate the area. \n",
        "\n"
      ]
    },
    {
      "cell_type": "code",
      "metadata": {
        "id": "Fn7_nt8-vUao",
        "colab": {
          "base_uri": "https://localhost:8080/"
        },
        "outputId": "f6d4844a-396a-475d-e5fc-79f6ecf0e15e"
      },
      "source": [
        "from math import pi # Use pi value from math package\n",
        "def areaCricle(radius):\n",
        "    return pi*(radius**2)\n",
        "\n",
        "areaCricle(10)"
      ],
      "execution_count": 152,
      "outputs": [
        {
          "output_type": "execute_result",
          "data": {
            "text/plain": [
              "314.1592653589793"
            ]
          },
          "metadata": {
            "tags": []
          },
          "execution_count": 152
        }
      ]
    },
    {
      "cell_type": "code",
      "metadata": {
        "id": "BML90x25vikN"
      },
      "source": [
        "# Only run this cell to check your answer. If it is true then no error will be raised\n",
        "assert(round(areaCricle(10),2) == 314.16)"
      ],
      "execution_count": 153,
      "outputs": []
    },
    {
      "cell_type": "markdown",
      "metadata": {
        "id": "_EfKc7-3x2k8"
      },
      "source": [
        "**Question 3.**\n",
        "Write a function that takes a list of items and returns a new list with the order of items reversed, without using any inbuilt Python features that will do this for you (e.g. .reverse() or reversed(…)). As specified in the instructions, your function must not modify the contents of the original list."
      ]
    },
    {
      "cell_type": "code",
      "metadata": {
        "id": "rEtOO9yPyKwe"
      },
      "source": [
        "\n",
        "def reversed_list(in_list):\n",
        "    # YOUR CODE HERE\n",
        "    rev_arr=[]\n",
        "    for i in range(len(in_list)):\n",
        "      rev_arr.append(in_list[len(in_list)-i-1])\n",
        "    return rev_arr\n"
      ],
      "execution_count": 154,
      "outputs": []
    },
    {
      "cell_type": "code",
      "metadata": {
        "id": "bVyMOVMLyRib"
      },
      "source": [
        "# Only run this cell to check your answer. If it is true then no error will be raised\n",
        "assert(reversed_list([1, 2,3]) == [3,2, 1])"
      ],
      "execution_count": 155,
      "outputs": []
    },
    {
      "cell_type": "markdown",
      "metadata": {
        "id": "DFQPTbd90pPN"
      },
      "source": [
        "**Question 4.** \n",
        "\n",
        "*Read carefully: *Write a function to perform a Bubble Sort on a list of numbers. \n",
        "\n",
        "Bubble sort is a sorting algorithm and works by iterating over the list, comparing adjacent items, and swapping them if they are out of order.\n",
        "\n",
        "Notice that after the first pass of a bubble sort, the biggest item is always moved to the end of the list. This means the next iteration does not need to check the final position of the list.\n",
        "\n",
        "In addition, you can keep track of how many items were swapped on each iteration. If this count is zero on any iteration, then the list must be fully sorted, in which case the algorithm can stop early.\n",
        "\n",
        "Hint: To understand Bubble Sort Algorithm, please [Watch](https://www.youtube.com/watch?v=xli_FI7CuzA)"
      ]
    },
    {
      "cell_type": "code",
      "metadata": {
        "id": "sGkDiI3b1DpQ",
        "colab": {
          "base_uri": "https://localhost:8080/"
        },
        "outputId": "41d74c11-d3a6-4eb9-8892-79af83b96464"
      },
      "source": [
        "def bubble_sort(in_list):\n",
        "    # YOUR CODE HERE\n",
        "    sorted=[]\n",
        "    \n",
        "    list_len=len(in_list)-1\n",
        "    for i in range(list_len):\n",
        "       swapped=0\n",
        "       for j in range(0, list_len-i):\n",
        "\n",
        "          if in_list[j] > in_list[j+1]:\n",
        "            temp = in_list[j]; \n",
        "            in_list[j] = in_list[j+1]; \n",
        "            in_list[j+1] = temp;\n",
        "            swapped=swapped+1 \n",
        "\n",
        "       print(\"elements swapped : % 2d, iteratiom : % 2d\" %(swapped,i)) \n",
        "       print(in_list)\n",
        "       if list_len-1 == max(in_list):\n",
        "        list_len=list_len-1\n",
        "       if swapped == 0 and i > 0:\n",
        "         print(\"break\")\n",
        "         break \n",
        "    return in_list\n",
        "\n",
        "print(bubble_sort([37, 42, 9, 19, 35, 4, 53, 22]))"
      ],
      "execution_count": 156,
      "outputs": [
        {
          "output_type": "stream",
          "text": [
            "elements swapped :  5, iteratiom :  0\n",
            "[37, 9, 19, 35, 4, 42, 22, 53]\n",
            "elements swapped :  5, iteratiom :  1\n",
            "[9, 19, 35, 4, 37, 22, 42, 53]\n",
            "elements swapped :  2, iteratiom :  2\n",
            "[9, 19, 4, 35, 22, 37, 42, 53]\n",
            "elements swapped :  2, iteratiom :  3\n",
            "[9, 4, 19, 22, 35, 37, 42, 53]\n",
            "elements swapped :  1, iteratiom :  4\n",
            "[4, 9, 19, 22, 35, 37, 42, 53]\n",
            "elements swapped :  0, iteratiom :  5\n",
            "[4, 9, 19, 22, 35, 37, 42, 53]\n",
            "break\n",
            "[4, 9, 19, 22, 35, 37, 42, 53]\n"
          ],
          "name": "stdout"
        }
      ]
    },
    {
      "cell_type": "code",
      "metadata": {
        "id": "ReCP5Nv_1ETF",
        "colab": {
          "base_uri": "https://localhost:8080/"
        },
        "outputId": "58065eaf-b824-4dac-f59e-71e9ff8c43b6"
      },
      "source": [
        "# Only run this cell to check your answer. If it is true then no error will be raised\n",
        "assert(bubble_sort([37, 42, 9, 19, 35, 4, 53, 22]) == [4, 9, 19, 22, 35, 37, 42, 53])\n",
        "assert(bubble_sort([5, 4, 3, 2, 1]) == [1, 2, 3, 4, 5])"
      ],
      "execution_count": 157,
      "outputs": [
        {
          "output_type": "stream",
          "text": [
            "elements swapped :  5, iteratiom :  0\n",
            "[37, 9, 19, 35, 4, 42, 22, 53]\n",
            "elements swapped :  5, iteratiom :  1\n",
            "[9, 19, 35, 4, 37, 22, 42, 53]\n",
            "elements swapped :  2, iteratiom :  2\n",
            "[9, 19, 4, 35, 22, 37, 42, 53]\n",
            "elements swapped :  2, iteratiom :  3\n",
            "[9, 4, 19, 22, 35, 37, 42, 53]\n",
            "elements swapped :  1, iteratiom :  4\n",
            "[4, 9, 19, 22, 35, 37, 42, 53]\n",
            "elements swapped :  0, iteratiom :  5\n",
            "[4, 9, 19, 22, 35, 37, 42, 53]\n",
            "break\n",
            "elements swapped :  4, iteratiom :  0\n",
            "[4, 3, 2, 1, 5]\n",
            "elements swapped :  3, iteratiom :  1\n",
            "[3, 2, 1, 4, 5]\n",
            "elements swapped :  2, iteratiom :  2\n",
            "[2, 1, 3, 4, 5]\n",
            "elements swapped :  1, iteratiom :  3\n",
            "[1, 2, 3, 4, 5]\n"
          ],
          "name": "stdout"
        }
      ]
    },
    {
      "cell_type": "markdown",
      "metadata": {
        "id": "c6y0x8KsvySS"
      },
      "source": [
        "**Question 5.** \n",
        "\n",
        "Write a function to find $n^{th}$ Fibonacci number\n",
        "The Fibonacci numbers are the numbers in the following integer sequence.\n",
        "\n",
        "| 1  | 2 | 3  | 4 | 5  | 6 | 7  | 8 | 9 | 10 | 11 | 12 |\n",
        "| -- |-- | -- | --| -- | --| -- | --|-- | -- |-- |-- |\n",
        "| 0  | 1 | 1  | 2 | 3  | 5 | 8  | 13| 21| 34 |55 |89 |\n",
        "\n",
        "Please consider index starting from 1\n",
        "\n",
        "In mathematical terms, the sequence $F_n$ of Fibonacci numbers is defined by the recurrence relation \n",
        "\n",
        "$F_n = F_n-1 + F_n-2$\n",
        "\n",
        "with seed values \n",
        "\n",
        "$F_0 = 0$ and $F_1 = 1$\n"
      ]
    },
    {
      "cell_type": "code",
      "metadata": {
        "colab": {
          "base_uri": "https://localhost:8080/"
        },
        "id": "dlMnigUrvxb9",
        "outputId": "b3f4ce4e-4a93-4a17-cad5-fbd5756bb40b"
      },
      "source": [
        "def Fibonacci(n):\n",
        "  initial = [0,1]\n",
        "  for i in range(2,n+1):\n",
        "        next_num = initial[-1] + initial[-2]\n",
        "        initial.append(next_num)\n",
        "  return initial[len(initial)-2]\n",
        "\n",
        "\n",
        "Fibonacci(11)"
      ],
      "execution_count": 158,
      "outputs": [
        {
          "output_type": "execute_result",
          "data": {
            "text/plain": [
              "55"
            ]
          },
          "metadata": {
            "tags": []
          },
          "execution_count": 158
        }
      ]
    },
    {
      "cell_type": "code",
      "metadata": {
        "id": "8OJv6zQKxzKj"
      },
      "source": [
        "# Only run this cell to check your answer. If it is true then no error will be raised\n",
        "assert(Fibonacci(7) == 8)\n",
        "assert(Fibonacci(9) == 21)"
      ],
      "execution_count": 159,
      "outputs": []
    },
    {
      "cell_type": "code",
      "metadata": {
        "id": "otGlZmfksHzY"
      },
      "source": [
        ""
      ],
      "execution_count": null,
      "outputs": []
    }
  ]
}